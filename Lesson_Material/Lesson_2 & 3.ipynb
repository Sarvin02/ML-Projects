{
 "cells": [
  {
   "cell_type": "code",
   "execution_count": 6,
   "id": "747e37b4",
   "metadata": {},
   "outputs": [],
   "source": [
    "#Python is essential for any machine learning model.\n",
    "#The Basics of Python\n",
    "\n",
    "#Variables(Data Types)\n",
    "#String\n",
    "\n",
    "name = \"John\"\n",
    "\n",
    "#Integer\n",
    "age = 30\n",
    "\n",
    "#Float\n",
    "height = 5.9\n",
    "\n",
    "#Boolean\n",
    "is_student = True\n",
    "\n",
    "#List & Tuple\n",
    "fruits = [\"apple\", \"banana\", \"cherry\"]  # List\n",
    "coordinates = (10.0, 20.0)  # Tuple\n",
    "\n",
    "#Dictionary & Set\n",
    "person = {\n",
    "    \"name\": \"Alice\",\n",
    "    \"age\": 25,\n",
    "    \"is_student\": False\n",
    "}  # Dictionary\n",
    "unique_numbers = {1, 2, 3, 4, 5}  # Set"
   ]
  },
  {
   "cell_type": "code",
   "execution_count": 7,
   "id": "0b48f5bf",
   "metadata": {},
   "outputs": [
    {
     "name": "stdout",
     "output_type": "stream",
     "text": [
      "You are an adult.\n",
      "apple\n",
      "banana\n",
      "cherry\n",
      "You are still young.\n",
      "You are still young.\n",
      "You are still young.\n",
      "You are still young.\n",
      "You are still young.\n"
     ]
    }
   ],
   "source": [
    "#Control Flow\n",
    "#If-Else Statement\n",
    "if age < 18:\n",
    "    print(\"You are a child.\")\n",
    "elif age >= 18:\n",
    "    print(\"You are an adult.\")\n",
    "    \n",
    "#For & While Loops\n",
    "for fruit in fruits:\n",
    "    print(fruit)\n",
    "    \n",
    "while age < 35:\n",
    "    print(\"You are still young.\")\n",
    "    age += 1  # Increment age to avoid infinite loop"
   ]
  },
  {
   "cell_type": "code",
   "execution_count": 8,
   "id": "bdd1a40a",
   "metadata": {},
   "outputs": [],
   "source": [
    "#Functions with parameters and return values\n",
    "def greet(name):\n",
    "    return f\"Hello, {name}!\"\n",
    "\n",
    "#Be mindful of scope when using functions\n",
    "#An example of a global function variable\n",
    "greeting = \"Welcome to Python!\"\n",
    "\n",
    "#An example of a local function variable\n",
    "def local_greet(name):\n",
    "    local_greeting = f\"Hello, {name}!\"\n",
    "    return local_greeting\n",
    "\n",
    "#local_greeting is not accessible outside this function"
   ]
  },
  {
   "cell_type": "code",
   "execution_count": 9,
   "id": "673d59f4",
   "metadata": {},
   "outputs": [],
   "source": [
    "#Importing Libraries and Modules\n",
    "import math\n",
    "import random as rnd\n",
    "from math import sqrt\n",
    "from math import pi, e, tau\n",
    "\n",
    "#ML Libraries\n",
    "import sklearn as skl\n",
    "from sklearn import datasets, model_selection, metrics\n",
    "from sklearn.model_selection import train_test_split\n",
    "import pandas as pd\n",
    "import numpy as np"
   ]
  },
  {
   "cell_type": "code",
   "execution_count": 14,
   "id": "d15e9ab8",
   "metadata": {},
   "outputs": [
    {
     "name": "stdout",
     "output_type": "stream",
     "text": [
      "Warning: Looks like you're using an outdated `kagglehub` version (installed: 0.3.11), please consider upgrading to the latest version (0.3.12).\n",
      "Path to dataset files:             date   region  ...  population_density  green_cover_percentage\n",
      "0     2020-01-01     East  ...         1957.637287               42.348419\n",
      "1     2020-01-02  Central  ...         2962.769470               27.712735\n",
      "2     2020-01-03     East  ...         6912.007043               41.031516\n",
      "3     2020-01-04     West  ...         9227.543628               40.543537\n",
      "4     2020-01-05    South  ...         1277.810175                5.648920\n",
      "...          ...      ...  ...                 ...                     ...\n",
      "2995  2020-03-16     West  ...         6376.519945               12.957398\n",
      "2996  2020-03-17  Central  ...         2895.955761               46.956454\n",
      "2997  2020-03-18     East  ...         8137.193349               18.919346\n",
      "2998  2020-03-19  Central  ...         8997.326165               25.754999\n",
      "2999  2020-03-20    South  ...          710.756315               40.450717\n",
      "\n",
      "[3000 rows x 26 columns]\n"
     ]
    }
   ],
   "source": [
    "#import kaggle dataset\n",
    "import kagglehub\n",
    "import os\n",
    "\n",
    "path = kagglehub.dataset_download(\"khushikyad001/air-quality-weather-and-respiratory-health\")\n",
    "\n",
    "\n",
    "df = pd.read_csv(path + \"/air_quality_health_dataset.csv\")\n",
    "\n",
    "print(\"Path to dataset files:\", df)"
   ]
  },
  {
   "cell_type": "code",
   "execution_count": 16,
   "id": "1523d5f2",
   "metadata": {},
   "outputs": [
    {
     "name": "stdout",
     "output_type": "stream",
     "text": [
      "Index(['date', 'region', 'AQI', 'PM2.5', 'PM10', 'NO2', 'SO2', 'CO', 'O3',\n",
      "       'temperature', 'humidity', 'wind_speed', 'precipitation',\n",
      "       'hospital_visits', 'emergency_visits', 'mobility_index',\n",
      "       'school_closures', 'public_transport_usage', 'mask_usage_rate',\n",
      "       'lockdown_status', 'industrial_activity', 'vehicle_count',\n",
      "       'construction_activity', 'respiratory_admissions', 'population_density',\n",
      "       'green_cover_percentage'],\n",
      "      dtype='object')\n"
     ]
    }
   ],
   "source": [
    "#Before using the dataset, we need to clean it up, which is called Data Preprocessing.\n",
    "#Data Preprocessing\n",
    "from sklearn.preprocessing import StandardScaler\n",
    "from sklearn.preprocessing import LabelEncoder\n",
    "from sklearn.model_selection import train_test_split\n",
    "print(df.columns)"
   ]
  },
  {
   "cell_type": "code",
   "execution_count": null,
   "id": "63c41bbd",
   "metadata": {},
   "outputs": [],
   "source": [
    "#Create the features that will be used to train and test the model\n",
    "X = df.drop(columns=['respiratory_health'])\n",
    "y = df['respiratory_health']\n",
    "\n",
    "#Split the dataset into training and testing sets\n",
    "#The test size is set to 20% of the dataset, and a random state is set for reproducibility which ensures that the same split is obtained every time the code is run.\n",
    "X_train, X_test, y_train, y_test = train_test_split(X, y, test_size=0.2, random_state=42)\n",
    "\n",
    "#We are dealing with numbers, so a standard scaler is used to scale the features to have a mean of 0 and a standard deviation of 1 to ensure that all features contribute equally to the model's performance.\n",
    "scaler = StandardScaler()\n",
    "X_train = scaler.fit_transform(X_train)\n",
    "X_test = scaler.transform(X_test)\n",
    "\n",
    "#The classes are not in numerical format, so we need to convert them to numerical format using label encoding.\n",
    "label_encoder = LabelEncoder()\n",
    "y_train = label_encoder.fit_transform(y_train)\n",
    "y_test = label_encoder.transform(y_test)"
   ]
  }
 ],
 "metadata": {
  "kernelspec": {
   "display_name": "Python 3",
   "language": "python",
   "name": "python3"
  },
  "language_info": {
   "codemirror_mode": {
    "name": "ipython",
    "version": 3
   },
   "file_extension": ".py",
   "mimetype": "text/x-python",
   "name": "python",
   "nbconvert_exporter": "python",
   "pygments_lexer": "ipython3",
   "version": "3.11.9"
  }
 },
 "nbformat": 4,
 "nbformat_minor": 5
}
