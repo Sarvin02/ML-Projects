{
 "cells": [
  {
   "cell_type": "code",
   "execution_count": null,
   "metadata": {},
   "outputs": [],
   "source": [
    "\n",
    "import kagglehub\n",
    "import pandas as pd\n",
    "from sklearn.tree import DecisionTreeClassifier\n",
    "from sklearn.model_selection import train_test_split\n",
    "from sklearn.metrics import accuracy_score\n",
    "from sklearn import tree\n",
    "import matplotlib.pyplot as plt"
   ]
  },
  {
   "cell_type": "code",
   "execution_count": null,
   "metadata": {},
   "outputs": [],
   "source": [
    "#Reading and Cleaning CSV\n",
    "\n",
    "# Download latest version\n",
    "path = kagglehub.dataset_download(\"gregorut/videogamesales\")\n",
    "\n",
    "#Read the CSV file into a DataFrame\n",
    "df = pd.read_csv(path + \"/music.csv\")\n",
    "\n",
    "print(df.head())"
   ]
  },
  {
   "cell_type": "code",
   "execution_count": null,
   "metadata": {},
   "outputs": [],
   "source": [
    "#Splittin the DataFrame into test/train sets\n",
    "\n",
    "#Input DataFrame\n",
    "X = df.drop(columns=['genre'])\n",
    "\n",
    "#Output DataFrame\n",
    "y = df['genre']\n",
    "\n",
    "#Splits the data into training and testing sets, allocated 20% of the data for testing and 80% for training\n",
    "X_train, X_test, y_train, y_test = train_test_split(X, y, test_size=0.2)"
   ]
  },
  {
   "cell_type": "code",
   "execution_count": null,
   "metadata": {},
   "outputs": [],
   "source": [
    "#Create a model\n",
    "#Creating a decision tree classifier\n",
    "model = DecisionTreeClassifier()\n",
    "\n",
    "#Fitting the model to the data\n",
    "model.fit(X_train, y_train)\n",
    "\n",
    "#Make prediction\n",
    "#Using the trained model to make predictions on the test set\n",
    "#The predict method is called on the model, passing in the test set features (X_test) to get predictions for the corresponding labels (y_test)\n",
    "predictions = model.predict(X_test)\n",
    "\n",
    "# Print predictions\n",
    "print(predictions)"
   ]
  },
  {
   "cell_type": "code",
   "execution_count": null,
   "metadata": {},
   "outputs": [],
   "source": [
    "#Calculating accuracy\n",
    "#Calculating the accuracy of the model by comparing the predicted labels with the true labels of the test set\n",
    "#The accuracy_score function from sklearn.metrics is used to compute the accuracy, which is the ratio of correctly predicted instances to the total instances in the test set\n",
    "#The accuracy is then multiplied by 100 to convert it to a percentage\n",
    "accuracy = accuracy_score(y_test, predictions)\n",
    "accuracy_percentage = accuracy * 100\n",
    "print(f\"Accuracy: {accuracy_percentage:.2f}%\")"
   ]
  },
  {
   "cell_type": "code",
   "execution_count": null,
   "metadata": {},
   "outputs": [],
   "source": [
    "#Visualizing the Decision Tree\n",
    "#Visualizing the decision tree using matplotlib\n",
    "#The plot_tree function from sklearn.tree is used to create a visual representation of the decision tree\n",
    "#The figure size is set to 20x10 inches, and the tree is plotted with a specific font size of 10\n",
    "#Class names and age labels are also included in the plot to indicate the predicted classes at each leaf node of the tree\n",
    "#Colors are used to differentiate between the classes, and the feature names are displayed at each node of the tree\n",
    "plt.figure(figsize=(20, 10))\n",
    "tree.plot_tree(model, feature_names=X.columns, class_names=y.unique(), filled=True, rounded=True, fontsize=10)\n",
    "plt.show()"
   ]
  }
 ],
 "metadata": {
  "language_info": {
   "name": "python"
  }
 },
 "nbformat": 4,
 "nbformat_minor": 2
}
