{
 "cells": [
  {
   "cell_type": "code",
   "execution_count": 16,
   "id": "aad1ad2c",
   "metadata": {},
   "outputs": [],
   "source": [
    "#Modules imported\n",
    "import kagglehub\n",
    "import tensorflow as tf\n",
    "from tensorflow.keras.models import Sequential\n",
    "from tensorflow.keras.layers import Dense\n",
    "from sklearn.model_selection import train_test_split\n",
    "from sklearn.preprocessing import StandardScaler\n",
    "import pandas as pd"
   ]
  },
  {
   "cell_type": "code",
   "execution_count": 17,
   "id": "3d0802aa",
   "metadata": {},
   "outputs": [
    {
     "name": "stdout",
     "output_type": "stream",
     "text": [
      "C:\\Users\\User\\.cache\\kagglehub\\datasets\\ibriiee\\video-games-sales-dataset-2022-updated-extra-feat\\versions\\1\n"
     ]
    }
   ],
   "source": [
    "# Load the dataset\n",
    "# Download latest version\n",
    "path = kagglehub.dataset_download(\"ibriiee/video-games-sales-dataset-2022-updated-extra-feat\")\n",
    "print(path)"
   ]
  },
  {
   "cell_type": "code",
   "execution_count": 18,
   "id": "b7c311e3",
   "metadata": {},
   "outputs": [
    {
     "name": "stdout",
     "output_type": "stream",
     "text": [
      "                       Name Platform  Year_of_Release         Genre Publisher  \\\n",
      "0                Wii Sports      Wii           2006.0        Sports  Nintendo   \n",
      "1         Super Mario Bros.      NES           1985.0      Platform  Nintendo   \n",
      "2            Mario Kart Wii      Wii           2008.0        Racing  Nintendo   \n",
      "3         Wii Sports Resort      Wii           2009.0        Sports  Nintendo   \n",
      "4  Pokemon Red/Pokemon Blue       GB           1996.0  Role-Playing  Nintendo   \n",
      "\n",
      "   NA_Sales  EU_Sales  JP_Sales  Other_Sales  Global_Sales  Critic_Score  \\\n",
      "0     41.36     28.96      3.77         8.45         82.53          76.0   \n",
      "1     29.08      3.58      6.81         0.77         40.24           NaN   \n",
      "2     15.68     12.76      3.79         3.29         35.52          82.0   \n",
      "3     15.61     10.93      3.28         2.95         32.77          80.0   \n",
      "4     11.27      8.89     10.22         1.00         31.37           NaN   \n",
      "\n",
      "   Critic_Count User_Score  User_Count Developer Rating  \n",
      "0          51.0          8       322.0  Nintendo      E  \n",
      "1           NaN        NaN         NaN       NaN    NaN  \n",
      "2          73.0        8.3       709.0  Nintendo      E  \n",
      "3          73.0          8       192.0  Nintendo      E  \n",
      "4           NaN        NaN         NaN       NaN    NaN  \n"
     ]
    }
   ],
   "source": [
    "#Convert the dataset to a pandas dataframe\n",
    "df = pd.read_csv(path+\"/Video_Games.csv\")\n",
    "# Display the first few rows of the dataset\n",
    "print(df.head())"
   ]
  },
  {
   "cell_type": "code",
   "execution_count": 20,
   "id": "03bc8444",
   "metadata": {},
   "outputs": [],
   "source": [
    "# Preprocess the data\n",
    "# Drop unnecessary columns\n",
    "df.drop(columns=['Name', 'Platform', 'Year_of_Release', 'Genre', 'Publisher'], inplace=True)\n",
    "# Use One-Hot Encoding for categorical variables\n",
    "df = pd.get_dummies(df, columns=['Rating'], drop_first=True)"
   ]
  },
  {
   "cell_type": "code",
   "execution_count": null,
   "id": "096ceb9c",
   "metadata": {},
   "outputs": [
    {
     "name": "stdout",
     "output_type": "stream",
     "text": [
      "count    16719.000000\n",
      "mean         0.533543\n",
      "std          1.547935\n",
      "min          0.010000\n",
      "25%          0.060000\n",
      "50%          0.170000\n",
      "75%          0.470000\n",
      "max         82.530000\n",
      "Name: Global_Sales, dtype: float64\n"
     ]
    }
   ],
   "source": [
    "#We need to predict if how much sales a game will make\n",
    "#We will use the Global_Sales as the target variable\n",
    "print(df[\"Global_Sales\"].describe())"
   ]
  },
  {
   "cell_type": "code",
   "execution_count": null,
   "id": "3508febc",
   "metadata": {},
   "outputs": [],
   "source": [
    "#Split the data into features and target variable\n",
    "X = df.drop(columns=['Global_Sales'])\n",
    "y = df['Global_Sales']\n",
    "# Split the data into training and testing sets\n",
    "X_train, X_test, y_train, y_test = train_test_split(X, y, test_size=0.2, random_state=42)"
   ]
  },
  {
   "cell_type": "code",
   "execution_count": null,
   "id": "6dd2af40",
   "metadata": {},
   "outputs": [],
   "source": [
    "#We are going to use MLP (Multi-Layer Perceptron) for this task\n",
    "# Scale the features\n",
    "scaler = StandardScaler()\n"
   ]
  }
 ],
 "metadata": {
  "kernelspec": {
   "display_name": "Python 3",
   "language": "python",
   "name": "python3"
  },
  "language_info": {
   "codemirror_mode": {
    "name": "ipython",
    "version": 3
   },
   "file_extension": ".py",
   "mimetype": "text/x-python",
   "name": "python",
   "nbconvert_exporter": "python",
   "pygments_lexer": "ipython3",
   "version": "3.11.9"
  }
 },
 "nbformat": 4,
 "nbformat_minor": 5
}
